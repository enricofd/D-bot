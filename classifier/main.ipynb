{
 "cells": [
  {
   "cell_type": "code",
   "execution_count": 33,
   "id": "4df421c3-dfee-4abc-8c1a-62f651197b16",
   "metadata": {},
   "outputs": [],
   "source": [
    "import pandas as pd\n",
    "from sklearn.preprocessing import OneHotEncoder\n",
    "from sklearn.model_selection import train_test_split\n",
    "\n",
    "import numpy as np\n",
    "\n",
    "from keras.layers import Input, Dense, Activation, TextVectorization, Embedding, GlobalAveragePooling1D\n",
    "from keras.models import Model\n",
    "import tensorflow as tf"
   ]
  },
  {
   "cell_type": "code",
   "execution_count": 102,
   "id": "e542d02b-5507-41bd-b9e5-d8a6ee418d06",
   "metadata": {},
   "outputs": [
    {
     "data": {
      "text/html": [
       "<div>\n",
       "<style scoped>\n",
       "    .dataframe tbody tr th:only-of-type {\n",
       "        vertical-align: middle;\n",
       "    }\n",
       "\n",
       "    .dataframe tbody tr th {\n",
       "        vertical-align: top;\n",
       "    }\n",
       "\n",
       "    .dataframe thead th {\n",
       "        text-align: right;\n",
       "    }\n",
       "</style>\n",
       "<table border=\"1\" class=\"dataframe\">\n",
       "  <thead>\n",
       "    <tr style=\"text-align: right;\">\n",
       "      <th></th>\n",
       "      <th>text</th>\n",
       "      <th>sentiment</th>\n",
       "    </tr>\n",
       "  </thead>\n",
       "  <tbody>\n",
       "    <tr>\n",
       "      <th>1</th>\n",
       "      <td>Sooo SAD I will miss you here in San Diego!!!</td>\n",
       "      <td>negative</td>\n",
       "    </tr>\n",
       "    <tr>\n",
       "      <th>2</th>\n",
       "      <td>my boss is bullying me...</td>\n",
       "      <td>negative</td>\n",
       "    </tr>\n",
       "    <tr>\n",
       "      <th>3</th>\n",
       "      <td>what interview! leave me alone</td>\n",
       "      <td>negative</td>\n",
       "    </tr>\n",
       "    <tr>\n",
       "      <th>4</th>\n",
       "      <td>Sons of ****, why couldn`t they put them on t...</td>\n",
       "      <td>negative</td>\n",
       "    </tr>\n",
       "    <tr>\n",
       "      <th>6</th>\n",
       "      <td>2am feedings for the baby are fun when he is a...</td>\n",
       "      <td>positive</td>\n",
       "    </tr>\n",
       "    <tr>\n",
       "      <th>...</th>\n",
       "      <td>...</td>\n",
       "      <td>...</td>\n",
       "    </tr>\n",
       "    <tr>\n",
       "      <th>49995</th>\n",
       "      <td>I thought this movie did a down right good job...</td>\n",
       "      <td>positive</td>\n",
       "    </tr>\n",
       "    <tr>\n",
       "      <th>49996</th>\n",
       "      <td>Bad plot, bad dialogue, bad acting, idiotic di...</td>\n",
       "      <td>negative</td>\n",
       "    </tr>\n",
       "    <tr>\n",
       "      <th>49997</th>\n",
       "      <td>I am a Catholic taught in parochial elementary...</td>\n",
       "      <td>negative</td>\n",
       "    </tr>\n",
       "    <tr>\n",
       "      <th>49998</th>\n",
       "      <td>I'm going to have to disagree with the previou...</td>\n",
       "      <td>negative</td>\n",
       "    </tr>\n",
       "    <tr>\n",
       "      <th>49999</th>\n",
       "      <td>No one expects the Star Trek movies to be high...</td>\n",
       "      <td>negative</td>\n",
       "    </tr>\n",
       "  </tbody>\n",
       "</table>\n",
       "<p>66363 rows × 2 columns</p>\n",
       "</div>"
      ],
      "text/plain": [
       "                                                    text sentiment\n",
       "1          Sooo SAD I will miss you here in San Diego!!!  negative\n",
       "2                              my boss is bullying me...  negative\n",
       "3                         what interview! leave me alone  negative\n",
       "4       Sons of ****, why couldn`t they put them on t...  negative\n",
       "6      2am feedings for the baby are fun when he is a...  positive\n",
       "...                                                  ...       ...\n",
       "49995  I thought this movie did a down right good job...  positive\n",
       "49996  Bad plot, bad dialogue, bad acting, idiotic di...  negative\n",
       "49997  I am a Catholic taught in parochial elementary...  negative\n",
       "49998  I'm going to have to disagree with the previou...  negative\n",
       "49999  No one expects the Star Trek movies to be high...  negative\n",
       "\n",
       "[66363 rows x 2 columns]"
      ]
     },
     "execution_count": 102,
     "metadata": {},
     "output_type": "execute_result"
    }
   ],
   "source": [
    "data_twitter = pd.read_csv(\"data_twitter.csv\", engine='python', encoding = \"ISO-8859-1\").dropna()\n",
    "data_twitter = data_twitter[data_twitter[\"sentiment\"] != \"neutral\"]\n",
    "data_twitter = data_twitter[[\"text\", \"sentiment\"]]\n",
    "\n",
    "data_imdb = pd.read_csv('data_imdb.csv')\n",
    "data_imdb[\"text\"] = data_imdb[\"review\"]\n",
    "data_imdb = data_imdb.drop(\"review\", axis=1)\n",
    "\n",
    "data = pd.concat([data_twitter, data_imdb])\n",
    "data"
   ]
  },
  {
   "cell_type": "code",
   "execution_count": 103,
   "id": "b9bc5fe1-a6e0-49cc-a1df-f10118de033e",
   "metadata": {},
   "outputs": [],
   "source": [
    "ohe = OneHotEncoder()\n",
    "\n",
    "y_ohe = ohe.fit_transform(data['sentiment'].to_numpy().reshape((-1,1))).todense()\n",
    "\n",
    "X_train, X_test, y_train, y_test = train_test_split(data['text'], y_ohe)"
   ]
  },
  {
   "cell_type": "code",
   "execution_count": 105,
   "id": "4e2c7288-a155-4a41-ba75-645920b61a04",
   "metadata": {},
   "outputs": [
    {
     "name": "stdout",
     "output_type": "stream",
     "text": [
      "[[1. 0.]] negative  Sooo SAD I will miss you here in San Diego!!!\n"
     ]
    }
   ],
   "source": [
    "# Negative, Positive\n",
    "print(y_ohe[0], list(data['sentiment'])[0], list(data['text'])[0])"
   ]
  },
  {
   "cell_type": "code",
   "execution_count": 108,
   "id": "4404e95c-a332-44b4-8c3f-697221d74ef5",
   "metadata": {},
   "outputs": [
    {
     "name": "stderr",
     "output_type": "stream",
     "text": [
      "2023-04-23 17:16:12.438221: I tensorflow/core/grappler/optimizers/custom_graph_optimizer_registry.cc:113] Plugin optimizer for device_type GPU is enabled.\n"
     ]
    },
    {
     "name": "stdout",
     "output_type": "stream",
     "text": [
      "Model: \"model_7\"\n",
      "_________________________________________________________________\n",
      " Layer (type)                Output Shape              Param #   \n",
      "=================================================================\n",
      " input_9 (InputLayer)        [(None, 1)]               0         \n",
      "                                                                 \n",
      " text_vectorization_12 (Text  (None, 200)              0         \n",
      " Vectorization)                                                  \n",
      "                                                                 \n",
      " projecao (Embedding)        (None, 200, 2)            200000    \n",
      "                                                                 \n",
      " global_average_pooling1d_5   (None, 2)                0         \n",
      " (GlobalAveragePooling1D)                                        \n",
      "                                                                 \n",
      " classificador (Dense)       (None, 2)                 6         \n",
      "                                                                 \n",
      " activation_7 (Activation)   (None, 2)                 0         \n",
      "                                                                 \n",
      "=================================================================\n",
      "Total params: 200,006\n",
      "Trainable params: 200,006\n",
      "Non-trainable params: 0\n",
      "_________________________________________________________________\n",
      "None\n",
      "Epoch 1/35\n"
     ]
    },
    {
     "name": "stderr",
     "output_type": "stream",
     "text": [
      "2023-04-23 17:16:15.696038: I tensorflow/core/grappler/optimizers/custom_graph_optimizer_registry.cc:113] Plugin optimizer for device_type GPU is enabled.\n"
     ]
    },
    {
     "name": "stdout",
     "output_type": "stream",
     "text": [
      "1556/1556 [==============================] - 90s 58ms/step - loss: 0.6638 - accuracy: 0.6659\n",
      "Epoch 2/35\n",
      "1556/1556 [==============================] - 62s 40ms/step - loss: 0.5746 - accuracy: 0.7483\n",
      "Epoch 3/35\n",
      "1556/1556 [==============================] - 58s 37ms/step - loss: 0.4899 - accuracy: 0.7937\n",
      "Epoch 4/35\n",
      "1556/1556 [==============================] - 55s 36ms/step - loss: 0.4324 - accuracy: 0.8204\n",
      "Epoch 5/35\n",
      "1556/1556 [==============================] - 54s 35ms/step - loss: 0.3956 - accuracy: 0.8371\n",
      "Epoch 6/35\n",
      "1556/1556 [==============================] - 53s 34ms/step - loss: 0.3714 - accuracy: 0.8506\n",
      "Epoch 7/35\n",
      "1556/1556 [==============================] - 52s 34ms/step - loss: 0.3536 - accuracy: 0.8593\n",
      "Epoch 8/35\n",
      "1556/1556 [==============================] - 52s 33ms/step - loss: 0.3397 - accuracy: 0.8655\n",
      "Epoch 9/35\n",
      "1556/1556 [==============================] - 51s 33ms/step - loss: 0.3288 - accuracy: 0.8704\n",
      "Epoch 10/35\n",
      "1556/1556 [==============================] - 52s 33ms/step - loss: 0.3199 - accuracy: 0.8755\n",
      "Epoch 11/35\n",
      "1556/1556 [==============================] - 51s 33ms/step - loss: 0.3120 - accuracy: 0.8798\n",
      "Epoch 12/35\n",
      "1556/1556 [==============================] - 52s 33ms/step - loss: 0.3054 - accuracy: 0.8829\n",
      "Epoch 13/35\n",
      "1556/1556 [==============================] - 52s 33ms/step - loss: 0.2998 - accuracy: 0.8847\n",
      "Epoch 14/35\n",
      "1556/1556 [==============================] - 53s 34ms/step - loss: 0.2947 - accuracy: 0.8875\n",
      "Epoch 15/35\n",
      "1556/1556 [==============================] - 51s 33ms/step - loss: 0.2902 - accuracy: 0.8899\n",
      "Epoch 16/35\n",
      "1556/1556 [==============================] - 52s 33ms/step - loss: 0.2860 - accuracy: 0.8912\n",
      "Epoch 17/35\n",
      "1556/1556 [==============================] - 53s 34ms/step - loss: 0.2824 - accuracy: 0.8931\n",
      "Epoch 18/35\n",
      "1556/1556 [==============================] - 55s 35ms/step - loss: 0.2790 - accuracy: 0.8952\n",
      "Epoch 19/35\n",
      "1556/1556 [==============================] - 55s 35ms/step - loss: 0.2761 - accuracy: 0.8960\n",
      "Epoch 20/35\n",
      "1556/1556 [==============================] - 57s 37ms/step - loss: 0.2733 - accuracy: 0.8971\n",
      "Epoch 21/35\n",
      "1556/1556 [==============================] - 58s 37ms/step - loss: 0.2707 - accuracy: 0.8992\n",
      "Epoch 22/35\n",
      "1556/1556 [==============================] - 58s 37ms/step - loss: 0.2683 - accuracy: 0.8997\n",
      "Epoch 23/35\n",
      "1556/1556 [==============================] - 59s 38ms/step - loss: 0.2659 - accuracy: 0.9014\n",
      "Epoch 24/35\n",
      "1556/1556 [==============================] - 63s 41ms/step - loss: 0.2638 - accuracy: 0.9017\n",
      "Epoch 25/35\n",
      "1556/1556 [==============================] - 63s 40ms/step - loss: 0.2618 - accuracy: 0.9027\n",
      "Epoch 26/35\n",
      "1556/1556 [==============================] - 66s 43ms/step - loss: 0.2599 - accuracy: 0.9033\n",
      "Epoch 27/35\n",
      "1556/1556 [==============================] - 70s 45ms/step - loss: 0.2582 - accuracy: 0.9041\n",
      "Epoch 28/35\n",
      "1556/1556 [==============================] - 69s 44ms/step - loss: 0.2565 - accuracy: 0.9057\n",
      "Epoch 29/35\n",
      "1556/1556 [==============================] - 70s 45ms/step - loss: 0.2547 - accuracy: 0.9057\n",
      "Epoch 30/35\n",
      "1556/1556 [==============================] - 72s 46ms/step - loss: 0.2531 - accuracy: 0.9062\n",
      "Epoch 31/35\n",
      "1556/1556 [==============================] - 73s 47ms/step - loss: 0.2516 - accuracy: 0.9074\n",
      "Epoch 32/35\n",
      "1556/1556 [==============================] - 78s 50ms/step - loss: 0.2501 - accuracy: 0.9077\n",
      "Epoch 33/35\n",
      "1556/1556 [==============================] - 77s 49ms/step - loss: 0.2490 - accuracy: 0.9081\n",
      "Epoch 34/35\n",
      "1556/1556 [==============================] - 78s 50ms/step - loss: 0.2476 - accuracy: 0.9089\n",
      "Epoch 35/35\n",
      "1556/1556 [==============================] - 78s 50ms/step - loss: 0.2464 - accuracy: 0.9098\n"
     ]
    },
    {
     "name": "stderr",
     "output_type": "stream",
     "text": [
      "2023-04-23 17:51:58.645891: I tensorflow/core/grappler/optimizers/custom_graph_optimizer_registry.cc:113] Plugin optimizer for device_type GPU is enabled.\n"
     ]
    },
    {
     "name": "stdout",
     "output_type": "stream",
     "text": [
      "519/519 [==============================] - 16s 31ms/step - loss: 0.3624 - accuracy: 0.8580\n"
     ]
    },
    {
     "data": {
      "text/plain": [
       "[0.3623591661453247, 0.8579952716827393]"
      ]
     },
     "execution_count": 108,
     "metadata": {},
     "output_type": "execute_result"
    }
   ],
   "source": [
    "vocab_size = 100000\n",
    "\n",
    "def avg_embedding_softmax_model(vectorize_layer, vocab_size=vocab_size):\n",
    "    input_layer = Input(shape=(1,), dtype=tf.string)\n",
    "    x = input_layer\n",
    "    x = vectorize_layer(x)\n",
    "    x = Embedding(vocab_size, 2, name='projecao')(x)\n",
    "    x = GlobalAveragePooling1D()(x)\n",
    "    x = Dense(2, name='classificador')(x)\n",
    "    x = Activation('softmax')(x)\n",
    "    return Model(input_layer, x)\n",
    "\n",
    "vectorize_layer = TextVectorization(output_mode='int', max_tokens=vocab_size, pad_to_max_tokens=True, output_sequence_length=200)\n",
    "vectorize_layer.adapt(X_train)\n",
    "clf = avg_embedding_softmax_model(vectorize_layer)\n",
    "print(clf.summary())\n",
    "clf.compile(loss='categorical_crossentropy', metrics=['accuracy'])\n",
    "history = clf.fit(X_train, y_train, epochs=35, verbose=1) \n",
    "clf.evaluate(X_test, y_test)"
   ]
  },
  {
   "cell_type": "code",
   "execution_count": 129,
   "id": "f0eb5e47-8ccb-404c-a1d6-34286acb0bbc",
   "metadata": {},
   "outputs": [
    {
     "name": "stdout",
     "output_type": "stream",
     "text": [
      "1/1 [==============================] - 0s 25ms/step\n"
     ]
    }
   ],
   "source": [
    "x_single = ['This is a sad sentence']\n",
    "y_single = np.array([1])\n",
    "\n",
    "y_pred_single = clf.predict(x_single)"
   ]
  },
  {
   "cell_type": "code",
   "execution_count": 130,
   "id": "4d516078-6f5a-4e48-9a03-87bb49742810",
   "metadata": {},
   "outputs": [
    {
     "data": {
      "text/plain": [
       "0.20571427"
      ]
     },
     "execution_count": 130,
     "metadata": {},
     "output_type": "execute_result"
    }
   ],
   "source": [
    "positivity = y_pred_single[0][1]\n",
    "positivity"
   ]
  },
  {
   "cell_type": "code",
   "execution_count": 137,
   "id": "2c3358f2-f5d4-4883-97f9-8187d67faf22",
   "metadata": {},
   "outputs": [
    {
     "name": "stdout",
     "output_type": "stream",
     "text": [
      "INFO:tensorflow:Assets written to: classifier/assets\n"
     ]
    }
   ],
   "source": [
    "clf.save('classifier')"
   ]
  },
  {
   "cell_type": "code",
   "execution_count": null,
   "id": "45c6d765-45f2-477e-b7bd-9eb8f838a477",
   "metadata": {},
   "outputs": [],
   "source": []
  }
 ],
 "metadata": {
  "kernelspec": {
   "display_name": "Python 3 (ipykernel)",
   "language": "python",
   "name": "python3"
  },
  "language_info": {
   "codemirror_mode": {
    "name": "ipython",
    "version": 3
   },
   "file_extension": ".py",
   "mimetype": "text/x-python",
   "name": "python",
   "nbconvert_exporter": "python",
   "pygments_lexer": "ipython3",
   "version": "3.10.6"
  }
 },
 "nbformat": 4,
 "nbformat_minor": 5
}
